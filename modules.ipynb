{
 "cells": [
  {
   "cell_type": "code",
   "execution_count": 21,
   "metadata": {},
   "outputs": [
    {
     "name": "stdout",
     "output_type": "stream",
     "text": [
      "cryptograph stealthdb https://github.com/cryptograph/stealthdb\n",
      "sslab-gatech opensgx git@github.com:sslab-gatech/opensgx.git\n"
     ]
    }
   ],
   "source": [
    "import os\n",
    "import subprocess\n",
    "import re\n",
    "import yaml\n",
    "\n",
    "# Input strings\n",
    "input_strings = [\n",
    "    \"url = https://github.com/cryptograph/stealthdb\",\n",
    "    \"url = git@github.com:sslab-gatech/opensgx.git\"\n",
    "]\n",
    "\n",
    "# Regular expression to match both URL formats\n",
    "pattern = r\"url = (https://github\\.com/([^/]+)/([^/]+)|git@github\\.com:([^/]+)/([^/]+)\\.git)\"\n",
    "\n",
    "def match_repo(input_strings, pattern):\n",
    "    repos = []\n",
    "    for input_string in input_strings:\n",
    "        input_string = input_string.strip()\n",
    "        match = re.search(pattern, input_string)\n",
    "        if match:\n",
    "            if match.group(1).startswith(\"https\"):\n",
    "                full_url = match.group(1)\n",
    "                user = match.group(2)\n",
    "                repo_name = match.group(3)\n",
    "            else:\n",
    "                full_url = match.group(1)\n",
    "                user = match.group(4)\n",
    "                repo_name = match.group(5)\n",
    "            repo = (user, repo_name, full_url)\n",
    "            repo = (item.strip() for item in repo)\n",
    "            repos.append(repo)\n",
    "    return repos\n",
    "\n",
    "repos = match_repo(input_strings, pattern)\n",
    "for (user, repo_name, full_url) in repos:\n",
    "    print(f\"{user} {repo_name} {full_url}\")\n",
    "\n",
    "# 设置代理\n",
    "os.environ['http_proxy'] = 'http://localhost:7890'\n",
    "os.environ['https_proxy'] = 'https://localhost:7890'\n",
    "\n",
    "# 确保sgx目录存在\n",
    "os.makedirs(\"sgx\", exist_ok=True)\n",
    "\n",
    "\n",
    "# 子模块定义的文本内容\n",
    "with open(\"all.modules\") as submodule_text:\n",
    "    # 解析文本，提取子模块信息\n",
    "    repos = match_repo(submodule_text.readlines(), pattern)\n",
    "    modules = [ url for (user, name, url) in repos ]\n",
    "    with open(\"modules.yaml\", 'w') as file:\n",
    "        yaml.safe_dump(modules, file)"
   ]
  }
 ],
 "metadata": {
  "kernelspec": {
   "display_name": "usr",
   "language": "python",
   "name": "python3"
  },
  "language_info": {
   "codemirror_mode": {
    "name": "ipython",
    "version": 3
   },
   "file_extension": ".py",
   "mimetype": "text/x-python",
   "name": "python",
   "nbconvert_exporter": "python",
   "pygments_lexer": "ipython3",
   "version": "3.12.3"
  }
 },
 "nbformat": 4,
 "nbformat_minor": 2
}
