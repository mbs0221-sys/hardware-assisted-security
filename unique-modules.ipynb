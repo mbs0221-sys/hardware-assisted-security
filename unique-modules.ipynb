{
 "cells": [
  {
   "cell_type": "code",
   "execution_count": 1,
   "metadata": {},
   "outputs": [
    {
     "name": "stdout",
     "output_type": "stream",
     "text": [
      "Duplicates removed and saved to modules_unique.yaml\n"
     ]
    }
   ],
   "source": [
    "import yaml\n",
    "\n",
    "# Load the YAML file\n",
    "with open('modules.yaml', 'r') as file:\n",
    "    data = yaml.safe_load(file)\n",
    "\n",
    "# Function to remove duplicates\n",
    "def remove_duplicates_and_sort(data):\n",
    "    unique_projects = set()\n",
    "    for key in data:\n",
    "        unique_list = []\n",
    "        for project in data[key]:\n",
    "            if project not in unique_projects:\n",
    "                unique_projects.add(project)\n",
    "                unique_list.append(project)\n",
    "        # Sort the list of projects\n",
    "        unique_list.sort()\n",
    "        data[key] = unique_list\n",
    "    # Sort the dictionary by key\n",
    "    data = dict(sorted(data.items()))\n",
    "    return data\n",
    "\n",
    "# Remove duplicates\n",
    "data = remove_duplicates_and_sort(data)\n",
    "\n",
    "# Save the updated YAML content back to a file\n",
    "with open('modules_unique.yaml', 'w') as file:\n",
    "    yaml.safe_dump(data, file)\n",
    "\n",
    "print(\"Duplicates removed and saved to modules_unique.yaml\")"
   ]
  }
 ],
 "metadata": {
  "kernelspec": {
   "display_name": "usr",
   "language": "python",
   "name": "python3"
  },
  "language_info": {
   "codemirror_mode": {
    "name": "ipython",
    "version": 3
   },
   "file_extension": ".py",
   "mimetype": "text/x-python",
   "name": "python",
   "nbconvert_exporter": "python",
   "pygments_lexer": "ipython3",
   "version": "3.12.3"
  }
 },
 "nbformat": 4,
 "nbformat_minor": 2
}
